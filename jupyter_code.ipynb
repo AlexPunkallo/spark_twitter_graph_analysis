{
 "cells": [
  {
   "cell_type": "code",
   "execution_count": null,
   "metadata": {},
   "outputs": [],
   "source": [
    "import os\n",
    "import findspark\n",
    "findspark.init()\n",
    "import pyspark"
   ]
  },
  {
   "cell_type": "code",
   "execution_count": null,
   "metadata": {},
   "outputs": [],
   "source": [
    "#sc.stop()\n",
    "\n",
    "sc = pyspark.SparkContext()\n",
    "sc.addPyFile(os.path.expanduser(\n",
    "    './graphframes-0.3.0-spark2.0-s_2.11.jar'))\n",
    "from graphframes import *"
   ]
  },
  {
   "cell_type": "code",
   "execution_count": null,
   "metadata": {},
   "outputs": [],
   "source": [
    "from pyspark.sql import SparkSession\n",
    "spark = SparkSession \\\n",
    "    .builder \\\n",
    "    .appName(\"Tweets\") \\\n",
    "    .getOrCreate()\n",
    "    \n",
    "spark.conf.set(\"spark.driver.cores\", 2)\n",
    "spark.conf.set(\"spark.executor.memory\", \"4g\")\n",
    "\n",
    "from scipy.stats import itemfreq\n",
    "#from __builtin__ import *\n",
    "import builtins\n",
    "import sys\n",
    "import math\n",
    "import pandas as pd\n",
    "import numpy as np\n",
    "import matplotlib\n",
    "import matplotlib.pyplot as plt\n",
    "import igraph as ig\n",
    "import cairo\n",
    "import time\n",
    "import random\n",
    "\n",
    "from pyspark.sql.functions import split, explode, size, col, asc, desc\n",
    "from pyspark.sql.functions import UserDefinedFunction\n",
    "from pyspark.sql.types import *\n",
    "\n",
    "matplotlib.style.use('ggplot')\n",
    "\n",
    "%matplotlib inline"
   ]
  },
  {
   "cell_type": "code",
   "execution_count": null,
   "metadata": {},
   "outputs": [],
   "source": [
    "def adjustFile(input_name, output_name, n):\n",
    "    out_file = open(output_name,\"w\")\n",
    "    i = 0\n",
    "    with open(input_name,\"r\") as f:\n",
    "        for line in f:\n",
    "            if i >= n:\n",
    "                break\n",
    "        if line.startswith(\",\"):\n",
    "            out_file.write(line.strip(\",\"))\n",
    "            i += 1\n",
    "        elif line.startswith(\"{\"):\n",
    "            out_file.write(line)\n",
    "            i += 1\n",
    "    out_file.close()"
   ]
  },
  {
   "cell_type": "code",
   "execution_count": null,
   "metadata": {},
   "outputs": [],
   "source": [
    "def plotInDegreesDistrubution(graph):\n",
    "    # inDegree table on pandas\n",
    "    indegrees_df = graph.inDegrees.toPandas()\n",
    "    indegrees_df['id'].replace(regex=True,inplace=True,to_replace='\\D',value=r'')\n",
    "    # Plot Part\n",
    "    fig = plt.figure(figsize=(20,10))\n",
    "    plot = fig.add_subplot(111)\n",
    "    degrees = {}\n",
    "    for d in np.array(indegrees_df[\"inDegree\"]):\n",
    "        if d in degrees:\n",
    "            degrees[d] += 1\n",
    "        else:\n",
    "            degrees[d] = 1\n",
    "    plot.loglog(degrees.keys(),degrees.values(),'b-', basex=2,basey=2,marker='o',linestyle='None')\n",
    "    plt.xlim(2**-0.5, 2**(math.log(max(degrees.keys()),2)+1))\n",
    "    plt.ylim(2**-0.5, 2**(math.log(max(degrees.values()),2)+1))\n",
    "    plt.ylabel(\"# of nodes\")\n",
    "    plt.xlabel(\"degree\")\n",
    "    plt.title(\"In-Degree distribution\")\n",
    "    plt.show()"
   ]
  },
  {
   "cell_type": "code",
   "execution_count": null,
   "metadata": {},
   "outputs": [],
   "source": [
    "def plotHashtagsGraph(graph, users, hashtags, name):\n",
    "    graph_to_plot = ig.Graph(directed=True)\n",
    "    users_df = users.toPandas()\n",
    "    for index,vertex in users_df.iterrows():\n",
    "        if vertex[\"id\"] is not None:\n",
    "            graph_to_plot.add_vertex(vertex[\"id\"], label = vertex[\"id\"].encode('utf-8'), color=\"red\")\n",
    "    hashtags_df = hashtags.toPandas()\n",
    "    for index,vertex in hashtags_df.iterrows():\n",
    "        if vertex[\"id\"] is not None:\n",
    "            graph_to_plot.add_vertex(vertex[\"id\"], label = vertex[\"id\"].encode('utf-8'), color=\"blue\")\n",
    "    edges_df = graph.edges.toPandas()\n",
    "    for index,edge in edges_df.iterrows():\n",
    "        #print edge\n",
    "        graph_to_plot.add_edge(edge[\"src\"],edge[\"dst\"])\n",
    "    layout = graph_to_plot.layout(\"kk\")\n",
    "    number_of_vertex = len(users_df) +len(hashtags_df)\n",
    "    vertex_size = number_of_vertex / 10\n",
    "    image_size = (number_of_vertex*10, number_of_vertex*10)\n",
    "    ig.plot(graph_to_plot, vertex_size = vertex_size, layout = layout, bbox = image_size, target=\"./\" + name)"
   ]
  },
  {
   "cell_type": "code",
   "execution_count": null,
   "metadata": {},
   "outputs": [],
   "source": [
    "def plotGraph(graph, name):\n",
    "    graph_to_plot = ig.Graph(directed=False)\n",
    "    nodes_df = graph.vertices.toPandas()\n",
    "    for index,vertex in nodes_df.iterrows():\n",
    "        if vertex[\"id\"] is not None:\n",
    "            graph_to_plot.add_vertex(vertex[\"id\"], label = vertex[\"id\"].encode('utf-8'))\n",
    "    edges_df = graph.edges.toPandas()\n",
    "    for index,edge in edges_df.iterrows():\n",
    "        graph_to_plot.add_edge(edge[\"src\"],edge[\"dst\"])\n",
    "    number_of_vertex = len(nodes_df)\n",
    "    vertex_size = number_of_vertex / 10\n",
    "    image_size = (number_of_vertex*10, number_of_vertex*10)\n",
    "    layout = graph_to_plot.layout(\"kk\")\n",
    "    ig.plot(graph_to_plot, vertex_size = vertex_size, layout = layout, bbox = image_size, target=\"./\" + name)"
   ]
  },
  {
   "cell_type": "code",
   "execution_count": null,
   "metadata": {},
   "outputs": [],
   "source": [
    "def plotGraphCommunities(graph, nodes, edges, communities, name):\n",
    "    graph_to_plot = ig.Graph(directed=False)\n",
    "    nodes = nodes.select(col(\"id\").alias(\"node_id\"))\n",
    "    nodes_and_communities = nodes.join(communities, nodes.node_id == communities.id)\n",
    "    nodes_and_communities = nodes_and_communities.select(nodes_and_communities.id, nodes_and_communities.label)\n",
    "    nodes_and_communities_df = nodes_and_communities.toPandas()\n",
    "    colors = ig.known_colors.items()\n",
    "    communities_colors = {}\n",
    "    for index,vertex in nodes_and_communities_df.iterrows():\n",
    "        if vertex[\"id\"] is not None:\n",
    "            if vertex[\"label\"] not in communities_colors:\n",
    "                communities_colors[vertex[\"label\"]] = colors.pop(random.randint(0, len(colors)-1))[0]\n",
    "            graph_to_plot.add_vertex(vertex[\"id\"], label = vertex[\"id\"].encode('utf-8'), \n",
    "                                     color = communities_colors[vertex[\"label\"]])\n",
    "    edges_df = edges.toPandas()\n",
    "    for index,edge in edges_df.iterrows():\n",
    "        graph_to_plot.add_edge(edge[\"src\"],edge[\"dst\"])\n",
    "    number_of_vertex = len(nodes_and_communities_df)\n",
    "    vertex_size = number_of_vertex / 10\n",
    "    image_size = (number_of_vertex*10, number_of_vertex*10)\n",
    "    #vertex_size = 20\n",
    "    #image_size = (200,200)\n",
    "    layout = graph_to_plot.layout(\"kk\")\n",
    "    ig.plot(graph_to_plot, vertex_size = vertex_size, layout = layout, bbox = image_size, target=\"./\" + name)"
   ]
  },
  {
   "cell_type": "code",
   "execution_count": null,
   "metadata": {},
   "outputs": [],
   "source": [
    "adjustFile(\"xaa-new\",\"xaa-new-cut\", 20000)\n",
    "df = spark.read.json(\"./xaa-new-cut\")\n",
    "df.createOrReplaceTempView(\"tweets\")"
   ]
  },
  {
   "cell_type": "code",
   "execution_count": null,
   "metadata": {},
   "outputs": [],
   "source": [
    "edges = spark.sql(\n",
    "    \"SELECT DISTINCT \\\n",
    "        _source.user.screen_name as screen_name, \\\n",
    "        _source.entities.hashtags.text as hashtags \\\n",
    "    FROM tweets \\\n",
    "    WHERE _source.entities.hashtags IS NOT NULL\")\n",
    "edges = edges.where(size(col(\"hashtags\")) > 0)\n",
    "edges = edges.select(edges.screen_name.alias(\"src\"),\n",
    "        explode(\"hashtags\").alias(\"dst\"))"
   ]
  },
  {
   "cell_type": "code",
   "execution_count": null,
   "metadata": {},
   "outputs": [],
   "source": [
    "# Users and hashtag generation\n",
    "users = edges.select(edges[\"src\"].alias(\"id\")).distinct()\n",
    "hashtags = edges.select(edges[\"dst\"].alias(\"id\")).distinct()\n",
    "\n",
    "# Build the graph\n",
    "nodes = hashtags.unionAll(users)\n",
    "hashtags_graph = GraphFrame(nodes, edges)\n",
    "\n",
    "# Show\n",
    "edges.select(edges.src.alias(\"user\"), edges.dst.alias(\"hashtag\")).show()\n",
    "plotInDegreesDistrubution(hashtags_graph)\n",
    "# Statistics\n",
    "print \"number of tweet\", df.count()\n",
    "print \"number of users\", users.count()\n",
    "print \"number of hastags\", hashtags.count()\n",
    "print \"number of edges\", edges.count()"
   ]
  },
  {
   "cell_type": "code",
   "execution_count": null,
   "metadata": {},
   "outputs": [],
   "source": [
    "count = users.count()\n",
    "# Remove all the hashtags tweeted by less than 0.2% of the total users\n",
    "min_degree = max(count/500, 16)\n",
    "# Remove all the hashtags tweeted by more than 10% of the total users\n",
    "max_degree = count/10\n",
    "print \"Min Hashtag Degree (0.2% of the users)\", min_degree\n",
    "print \"Max Hashtag Degree (10% of the users)\", max_degree\n",
    "# Filter application\n",
    "new_nodes = hashtags_graph.inDegrees.filter(\n",
    "    \"inDegree > \" + str(min_degree) + \\\n",
    "    \" AND inDegree < \" + str(max_degree)).select(\"id\")\n",
    "new_nodes.createOrReplaceTempView(\"new_nodes\")\n",
    "edges.createOrReplaceTempView(\"edges\")\n",
    "# Retain only the edges that goes to the new hashtags\n",
    "new_edges = spark.sql(\n",
    "    \"SELECT edges.src, edges.dst \\\n",
    "    FROM edges INNER JOIN new_nodes \\\n",
    "    ON new_nodes.id = edges.dst\").distinct()\n",
    "print \"number of new hashtags\", new_nodes.count()\n",
    "print \"number of new edges\", new_edges.count()"
   ]
  },
  {
   "cell_type": "code",
   "execution_count": null,
   "metadata": {},
   "outputs": [],
   "source": [
    "# Users and hashtag generation\n",
    "users = new_edges.select(new_edges[\"src\"].alias(\"id\")).distinct()\n",
    "hashtags = new_edges.select(new_edges[\"dst\"].alias(\"id\")).distinct()\n",
    "# Build the graph\n",
    "nodes = hashtags.unionAll(users)\n",
    "hashtags_n = GraphFrame(nodes, new_edges)\n",
    "plotInDegreesDistrubution(hashtags_n)\n",
    "plotHashtagsGraph(hashtags_n, users, hashtags, \"hashtags-graph.png\")"
   ]
  },
  {
   "cell_type": "code",
   "execution_count": null,
   "metadata": {},
   "outputs": [],
   "source": [
    "new_edges = hashtags_n.find(\"(u1)-[e1]->(ht); (u2)-[e2]->(ht)\")\n",
    "new_edges = new_edges.select(new_edges.u1, new_edges.u2)\n",
    "new_edges = new_edges.where(col(\"u1\") != col(\"u2\"))"
   ]
  },
  {
   "cell_type": "code",
   "execution_count": null,
   "metadata": {},
   "outputs": [],
   "source": [
    "firstElement = UserDefinedFunction(lambda x : x[0], StringType())\n",
    "new_edges = new_edges.withColumn(\"src\", firstElement(\"u1\"))\n",
    "new_edges = new_edges.withColumn(\"dst\", firstElement(\"u2\"))"
   ]
  },
  {
   "cell_type": "code",
   "execution_count": null,
   "metadata": {},
   "outputs": [],
   "source": [
    "new_edges = new_edges.select(new_edges.src, new_edges.dst).distinct()\n",
    "users = new_edges.select(new_edges[\"src\"].alias(\"id\"))\n",
    "users = users.unionAll(new_edges.select(new_edges[\"dst\"].alias(\"id\"))).distinct()\n",
    "users_graph = GraphFrame(users, new_edges)\n",
    "print \"number of users\", users.count()\n",
    "print \"number of edges\", users_graph.edges.count()\n",
    "plotInDegreesDistrubution(users_graph)\n",
    "plotGraph(users_graph, users, new_edges, \"users-graph.png\")"
   ]
  },
  {
   "cell_type": "code",
   "execution_count": null,
   "metadata": {},
   "outputs": [],
   "source": [
    "results = users_graph.pageRank(resetProbability=0.15, tol=0.01)\n",
    "pagerank_results = results.vertices.orderBy(results.vertices.pagerank.desc())\n",
    "pagerank_results.toPandas().to_csv(\"./pagerank.csv\")\n",
    "pagerank_results.show(20)\n",
    "pagerank_results = pagerank_results.select(\"id\")\n",
    "pagerank_results = spark.createDataFrame(pagerank_results.head(20))"
   ]
  },
  {
   "cell_type": "code",
   "execution_count": null,
   "metadata": {},
   "outputs": [],
   "source": [
    "lp_results = users_graph.labelPropagation(maxIter=6)\n",
    "users_communities = lp_results.distinct()\n",
    "users_communities.show()\n",
    "print \"Number of communities: \", users_communities.select(col(\"label\")).distinct().count()\n",
    "plotGraphCommunities(users_graph, users_communities, \"communities-graph.png\")"
   ]
  }
 ],
 "metadata": {
  "kernelspec": {
   "display_name": "Python [conda env:anaconda3]",
   "language": "python",
   "name": "conda-env-anaconda3-py"
  },
  "language_info": {
   "codemirror_mode": {
    "name": "ipython",
    "version": 3
   },
   "file_extension": ".py",
   "mimetype": "text/x-python",
   "name": "python",
   "nbconvert_exporter": "python",
   "pygments_lexer": "ipython3",
   "version": "3.6.4"
  }
 },
 "nbformat": 4,
 "nbformat_minor": 2
}
